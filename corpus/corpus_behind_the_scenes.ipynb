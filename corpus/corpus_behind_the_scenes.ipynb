{
 "cells": [
  {
   "cell_type": "code",
   "execution_count": 3,
   "metadata": {},
   "outputs": [
    {
     "name": "stdout",
     "output_type": "stream",
     "text": [
      "Requirement already satisfied: uniparser_morph in /home/sofia1236/.local/lib/python3.8/site-packages (2.7.5)\n",
      "Note: you may need to restart the kernel to use updated packages.\n"
     ]
    }
   ],
   "source": [
    "pip install uniparser_morph"
   ]
  },
  {
   "cell_type": "code",
   "execution_count": 28,
   "metadata": {},
   "outputs": [
    {
     "name": "stdout",
     "output_type": "stream",
     "text": [
      "Requirement already satisfied: textgrid in /home/sofia1236/.local/lib/python3.8/site-packages (1.6.1)\n",
      "Note: you may need to restart the kernel to use updated packages.\n"
     ]
    }
   ],
   "source": [
    "pip install textgrid"
   ]
  },
  {
   "cell_type": "code",
   "execution_count": 2,
   "metadata": {},
   "outputs": [],
   "source": [
    "import json\n",
    "import pandas as pd\n",
    "import nltk\n",
    "import textgrid"
   ]
  },
  {
   "cell_type": "code",
   "execution_count": 1,
   "metadata": {},
   "outputs": [],
   "source": [
    "from uniparser_morph import Analyzer"
   ]
  },
  {
   "cell_type": "code",
   "execution_count": 2,
   "metadata": {},
   "outputs": [],
   "source": [
    "a = Analyzer()\n",
    "a.load_grammar()"
   ]
  },
  {
   "cell_type": "markdown",
   "metadata": {},
   "source": [
    "# How `.json` files for tsakorpus were prepared"
   ]
  },
  {
   "cell_type": "markdown",
   "metadata": {},
   "source": [
    "First, get metadata from MASC dataset:"
   ]
  },
  {
   "cell_type": "code",
   "execution_count": 13,
   "metadata": {},
   "outputs": [
    {
     "name": "stdout",
     "output_type": "stream",
     "text": [
      "    narrative_num              name  age gender         profession\n",
      "0          III.01     Ḥabīb Fransīs   26      M     Trader, farmer\n",
      "1          III.02      Čaḳla Fōḏ̣el   51      F  Housewife, farmer\n",
      "2          III.03       Fōṭme Ḳamar   58      F  Housewife, farmer\n",
      "3          III.04       Raḥme Šahīn   55      F          Housewife\n",
      "4          III.05       Raḥme Šahīn   55      F          Housewife\n",
      "..            ...               ...  ...    ...                ...\n",
      "168         IV.70      Saʕda Ṭayfūr   61      F          Housewife\n",
      "169         IV.71     Ḥabīb Fransīs   26      M     Trader, farmer\n",
      "170         IV.72  Žaržūra Ruzḳalla   50      M            Teacher\n",
      "171         IV.73  Žaržūra Ruzḳalla   50      M            Teacher\n",
      "172         IV.74  Žaržūra Ruzḳalla   50      M            Teacher\n",
      "\n",
      "[173 rows x 5 columns]\n"
     ]
    }
   ],
   "source": [
    "df=pd.read_csv(\"aramaic_info_db.csv\")\n",
    "print(df)"
   ]
  },
  {
   "cell_type": "code",
   "execution_count": 14,
   "metadata": {},
   "outputs": [],
   "source": [
    "meta_speaker=[]\n",
    "for index, row in df.iterrows():\n",
    "    help_list=[]\n",
    "    help_list.append(row['name'])\n",
    "    help_list.append(row['age'])\n",
    "    help_list.append(row['gender'])\n",
    "    help_list.append(row['profession'])\n",
    "    help_list.append(row[\"narrative_num\"])\n",
    "    meta_speaker.append(help_list)"
   ]
  },
  {
   "cell_type": "code",
   "execution_count": 15,
   "metadata": {},
   "outputs": [
    {
     "name": "stdout",
     "output_type": "stream",
     "text": [
      "  narrative_num                      narrative_subject\n",
      "0        III.01  Activities at home and in the village\n",
      "1        III.02  Activities at home and in the village\n",
      "2        III.03  Activities at home and in the village\n",
      "3        III.04  Activities at home and in the village\n",
      "4        III.05  Activities at home and in the village\n"
     ]
    }
   ],
   "source": [
    "df2=pd.read_csv(\"aramaic_corpus.db.csv\")\n",
    "print(df2.head())"
   ]
  },
  {
   "cell_type": "code",
   "execution_count": 26,
   "metadata": {},
   "outputs": [],
   "source": [
    "nar_num=df2[\"narrative_num\"].tolist()\n",
    "nar_num_extended=df2[\"narrative_num\"].tolist()\n",
    "nar_num_extended.extend([\"V.01\", \"V.02\", \"V.03\", \"V.06\", \"V.07\", \"V.08\", \n",
    "                \"VII.01\", \"VII.02\", \"VII.03\", \"VII.04\", \"VII.05\", \"VII.06\", \"VII.07\", \"VII.08\", \"VII.09\", \"VII.10\", \"VII.11\", \"VII.12\"])"
   ]
  },
  {
   "cell_type": "code",
   "execution_count": 17,
   "metadata": {},
   "outputs": [],
   "source": [
    "i=0\n",
    "for index, row in df2.iterrows():\n",
    "    meta_speaker[i].append(row[\"narrative_subject\"])\n",
    "    i+=1"
   ]
  },
  {
   "cell_type": "markdown",
   "metadata": {},
   "source": [
    "Here is how it looks like:"
   ]
  },
  {
   "cell_type": "code",
   "execution_count": 18,
   "metadata": {},
   "outputs": [
    {
     "name": "stdout",
     "output_type": "stream",
     "text": [
      "[['Ḥabīb Fransīs', 26, 'M', 'Trader, farmer', 'III.01', 'Activities at home and in the village'], ['Čaḳla Fōḏ̣el', 51, 'F', 'Housewife, farmer', 'III.02', 'Activities at home and in the village'], ['Fōṭme Ḳamar', 58, 'F', 'Housewife, farmer', 'III.03', 'Activities at home and in the village']]\n"
     ]
    }
   ],
   "source": [
    "print(meta_speaker[:3])"
   ]
  },
  {
   "cell_type": "markdown",
   "metadata": {},
   "source": [
    "Secondly, get all sentences from `.txt` corpus file: "
   ]
  },
  {
   "cell_type": "code",
   "execution_count": 20,
   "metadata": {},
   "outputs": [],
   "source": [
    "korpus_sents=[]\n",
    "f=open(\"Korpus.txt\", \"r\", encoding=\"utf-8\")\n",
    "c=0\n",
    "help_list=[]\n",
    "for line in f:\n",
    "    if c==4:\n",
    "        korpus_sents.append(help_list[:-1])\n",
    "        help_list=[]\n",
    "        c=0\n",
    "    help_list.append(line[:-1])\n",
    "    c+=1\n",
    "f.close()"
   ]
  },
  {
   "cell_type": "markdown",
   "metadata": {},
   "source": [
    "Here is how it looks like:"
   ]
  },
  {
   "cell_type": "code",
   "execution_count": 22,
   "metadata": {},
   "outputs": [
    {
     "name": "stdout",
     "output_type": "stream",
     "text": [
      "['3. Maalula: 001. M_ḤF Wie man Traubenhonig herstellt.txt', '001. ana ḥabīb fransīs m-maʕlūla, bann naḥək ex mišwill pšōṯa w ex mišwill tepsa.', '001. Ich bin Ḥabīb Fransīs aus Maʕlūla und will erzählen, wie man Rosinen macht und wie man (daraus) Traubenhonig macht.']\n",
      "['7. Neue Lieder aus Maalula Žaržūra Ruzḳalla: 012. Auf dem Felsen am Kreuzfest', '012. Čimxammen mō čimxammen īla ʕlaynaḥ? // Īla wṣīṯa lə-bnōṯaḥ w lə-bnaynaḥ: // Yinšull tunya w-blōtun la yinšunna.', '012. (12 Strophe) Was denkst du, was es für uns hat? // Ein Vermächtnis für unsere Töchter und Söhne: // Sie sollen die Welt vergessen, aber nicht ihr Dorf.']\n"
     ]
    }
   ],
   "source": [
    "print(korpus_sents[0])\n",
    "print(korpus_sents[-1])"
   ]
  },
  {
   "cell_type": "code",
   "execution_count": 23,
   "metadata": {},
   "outputs": [
    {
     "name": "stdout",
     "output_type": "stream",
     "text": [
      "5802\n"
     ]
    }
   ],
   "source": [
    "print(len(korpus_sents))"
   ]
  },
  {
   "cell_type": "markdown",
   "metadata": {},
   "source": [
    "Thirdly, get timecodes from MASC data for each sentence using `textgrid`:"
   ]
  },
  {
   "cell_type": "code",
   "execution_count": 24,
   "metadata": {},
   "outputs": [
    {
     "name": "stdout",
     "output_type": "stream",
     "text": [
      "['3. Maalula: 001. M_ḤF Wie man Traubenhonig herstellt.txt', '3. Maalula: 002. M_ČF Wie man Aprikosenmarmelade einkocht.txt', '3. Maalula: 003. M_FḲ Wie der Käse gemacht wird.txt', '3. Maalula: 004. M_RŠ Wie das Getreide gemahlen wird.txt', '3. Maalula: 005. M_RŠ Brotbacken.txt', '3. Maalula: 006. M_ČF Wie man ein Gericht aus Weizen und Milch zubereitet.txt', '3. Maalula: 007. M_IH Wie ich einmal als Kind die Ziegen hütete.txt', '3. Maalula: 008. M_ŽYF Ein Schneesturm.txt', '3. Maalula: 009. M_ḤF Sturzbäche.txt', '3. Maalula: 010. M_ŽYF Das Singen im Weinberg.txt', '3. Maalula: 011. M_ČŠ Wir wir uns verlobten und heirateten.txt', '3. Maalula: 012. M_ČF Ein Kind kommt zur Welt.txt', '3. Maalula: 013. M_FḎ Bewirtung der Gäste bei der Geburt eines Kindes.txt', '3. Maalula: 014. M_ḎMP Die Wasserpfeife.txt', '3. Maalula: 015. M_ḤF Das Kaffeetrinken.txt', '3. Maalula: 016. M_ḤB Das Matetrinken.txt', '3. Maalula: 017. M_NḎ Ein muslimisches Mädchen erzählt von seinem Leben im Dorf.txt', '3. Maalula: 018. M_ḤF Das Ōfṯa.txt', '3. Maalula: 019. M_ḤF Unfälle mit dem Bus auf der Strecke Damaskus Maʕlūla.txt', '3. Maalula: 020. M_ḤF Der Esel.txt', '3. Maalula: 021. M_LS Die Arbeit im Weinberg.txt', '3. Maalula: 022. M_YS Die Herstellung eines Pfluges.txt', '3. Maalula: 023. M_ČF Die Schur der Schafe.txt', '3. Maalula: 024. M_YS Das Bearbeiten der Schaffelle.txt', '3. Maalula: 025. M_LB Der Bäcker.txt', '3. Maalula: 026. M_ŽYF Der Gemüsehändler.txt', '3. Maalula: 027. M_FŠ Der Medizinmann.txt', '3. Maalula: 028. M_ḤM Der Teppichweber.txt', '3. Maalula: 029. M_EŠ Der Intarsienmacher.txt', '3. Maalula: 030. M_ŽYF Der Pferdekauf.txt', '3. Maalula: 031. M_ŽYF Die vergebliche Suche nach Gerste.txt', '3. Maalula: 032. M_ŽYF Der Häckselkauf.txt', '3. Maalula: 033. M_PḤXḤ Das Wasserrecht in der Šiḳya.txt', '3. Maalula: 034. M_TAM Das Vaterunser.txt', '3. Maalula: 035. M_NF Das Fest der heiligen Barbara.txt', '3. Maalula: 036. M_ḤF Weihnachten.txt', '3. Maalula: 037. M_ḤF Das Epiphanienfest.txt', '3. Maalula: 038. M_ḤF Fastenzeit Karwoche und Osterfest.txt', '3. Maalula: 039. M_ḤF Das Fest des heiligen Georg.txt', '3. Maalula: 040. M_ḤF Der Marienmonat.txt', '3. Maalula: 041. M_ḤF Das Pfingstfest.txt', '3. Maalula: 042. M_ḤF Das Fronleichnamsfest.txt', '3. Maalula: 043. M_ḤF Das Fest des heiligen Lavandius.txt', '3. Maalula: 044. M_ḤF Das Kreuzfest.txt', '3. Maalula: 045. M_SḲ Das Fest der heiligen Thekla.txt', '3. Maalula: 046. M_ḤF Das Fest des heiligen Sergius.txt', '3. Maalula: 047. M_IP Die Taufe.txt', '3. Maalula: 048. M_ḤF Die erste Kommunion.txt', '3. Maalula: 049. M_FŠ Die Hochzeit.txt', '3. Maalula: 050. M_ḤF Beerdigung.txt', '3. Maalula: 051. M_ḤF Die Beerdigung der Kinder.txt', '3. Maalula: 052. M_ḎČ Das Kloster der heiligen Thekla in Maʕlūla.txt', '3. Maalula: 053. M_ḤM Der heilige Šurben.txt', '3. Maalula: 054. M_XḲ Die Hochzeit.txt', '3. Maalula: 055. M_FḲ Begräbnis I.txt', '3. Maalula: 056. M_MʕḤ Begräbnis II.txt', '3. Maalula: 057. M_MḲ Die Fastenzeit.txt', '3. Maalula: 058. M_FḎ Das Fest des Fastenbrechens.txt', '3. Maalula: 059. M_FḲ Das Opferfest.txt', '3. Maalula: 060. M_AṢ Geburt eines Dämonen.txt', '3. Maalula: 061. M_MAM Besuch der Dämonen.txt', '3. Maalula: 062. M_ḤŠB Wahrsagen aus dem Kaffeesatz.txt', '3. Maalula: 063. M_AṢ Die Scheintote.txt', '3. Maalula: 064. M_MM Die Wünschelrute.txt', '3. Maalula: 065. M_LS Der Dämon war eine Katze.txt', '3. Maalula: 066. M_ČF Die verschwundene Melone.txt', '3. Maalula: 067. M_MB Der Sturz ins Bachbett.txt', '3. Maalula: 068. M_ḤF Der Bienenstich.txt', '3. Maalula: 069. M_ḤF Der Eselsritt.txt', '3. Maalula: 070. M_ḤF Das Blut der Eidechse.txt', '3. Maalula: 071. M_YM Die Gesangsaufnahme.txt', '3. Maalula: 072. M_MB Die Verwechslung.txt', '3. Maalula: 073. M_MB Der tote Onkel.txt', '3. Maalula: 074. M_FŠ Der Auswanderer.txt', '3. Maalula: 075. M_FŠ Das verschwundene Tor.txt', '3. Maalula: 076. M_ŽYF Wir wir in Baxʕa ein Schaf stahlen.txt', '3. Maalula: 077. M_ŽYF Der Verkauf des Webstuhls.txt', '3. Maalula: 078. M_ŽYF Ein Trinkgelage mit Feldbewässerung.txt', '3. Maalula: 079. M_ŽYF Der Ladendiebstahl.txt', '3. Maalula: 080. M_ŽYF Die Versöhnungsfeier.txt', '3. Maalula: 081. M_ŽYF Das Picknick.txt', '3. Maalula: 082. M_ŽYF Wie wir den Dreschschlitten verheizten.txt', '3. Maalula: 083. M_ŽYF Ärger mit dem Priester.txt', '3. Maalula: 084. M_ḤF Die Tomatenschlacht.txt', '3. Maalula: 085. M_ḤF Die Eierschlacht.txt', '3. Maalula: 086. M_ḤF Das Geschenk.txt', '3. Maalula: 087. M_MB Der Bananendiebstahl.txt', '3. Maalula: 088. M_MB Die Mäuse.txt', '3. Maalula: 089. M_MB Der niedrige Durchgang.txt', '3. Maalula: 090. M_AṢ Der Mord in der Schlucht.txt', '3. Maalula: 091. M_ŽYF Die Rache an Ōbəl Buṭrus.txt', '3. Maalula: 092. M_ŽYF Die zerbrochene Fensterscheibe.txt', '3. Maalula: 093. M_SB Ein Erlebnis in Deutschland.txt', '3. Maalula: 094. M_MB Das lose Lenkrad.txt', '3. Maalula: 095. M_MḤ Ein Trinkgelage im Weinkeller.txt', '3. Maalula: 096. M_LS Ein Erlebnis in der Šiḳya.txt', '3. Maalula: 097. M_FŠ Zwei gefährliche Jugendstreiche.txt', '3. Maalula: 098. M_FŠ Bergung eines Verletzten.txt', '3. Maalula: 099. M_ḎČ Die Lebensgeschichte Ḏeba Čazras und seines Vaters.txt', '4. Maalula: 001. M_ḤF Wie der kluge Richter den Zauberer überlistete.txt', '4. Maalula: 002. M_FMW Der Arme und der Reiche.txt', '4. Maalula: 003. M_ḤF Das Reh des Knaben und der Königssohn.txt', '4. Maalula: 004. M_MM Der Zauberring.txt', '4. Maalula: 005. M_YS Das Vermächtnis des Fischers.txt', '4. Maalula: 006. M_SṬ Das fromme Mädchen.txt', '4. Maalula: 007. M_ḤŠB Die Tochter des Schuhmachers.txt', '4. Maalula: 008. M_ḤŠB Der Hühnerdieb.txt', '4. Maalula: 009. M_ḤF Der Edelstein des Armen.txt', '4. Maalula: 010. M_MM Wie der heiratsunwillig Königssohn schließlich zwei Frauen heiratete.txt', '4. Maalula: 011. M_MM Wie das Meerwasser salzig wurde.txt', '4. Maalula: 012. M_ḤF Der Jüngling und die Schlange.txt', '4. Maalula: 013. M_WḲ Das Goldhuhn.txt', '4. Maalula: 014. M_NḲ Die böse Schwiegertochter.txt', '4. Maalula: 015. M_ŽZ Die vier Bedingungen.txt', '4. Maalula: 016. M_ŽČ Die wunderbaren Weizenkörner.txt', '4. Maalula: 017. M_ŽČ Das Gespräch mit dem Fischer.txt', '4. Maalula: 018. M_ŽYF Ein schönes Vermächtnis.txt', '4. Maalula: 019. M_ŽYF Krunbe.txt', '4. Maalula: 020. M_MM Der König und der Bauer.txt', '4. Maalula: 021. M_FḲ Die böse Stiefmutter.txt', '4. Maalula: 022. M_ŽYF Wie die Holzsammler die Königstochter heiratete.txt', '4. Maalula: 023. M_MḤ Wie der König den schönen Jüngling reich machen wollte.txt', '4. Maalula: 024. M_ḤF Wie der Fuchs den Wolf hereinlegte.txt', '4. Maalula: 025. M_MB Der Fuchs im Schafspelz und die Zucchini.txt', '4. Maalula: 026. M_ḎČ Die Vertreibung des Kuruġli.txt', '4. Maalula: 027. M_ḎČ Brōša und die Beduinen.txt', '4. Maalula: 028. M_SḲ Die getrommelte Nachricht.txt', '4. Maalula: 029. M_YB Der verschwundene Žalīl.txt', '4. Maalula: 030. M_FŠ Tod beim Trinkgelage.txt', '4. Maalula: 031. M_YS Der Toilettenbesuch.txt', '4. Maalula: 032. M_SṬ Die heilige Thekla in Maʕlūla.txt', '4. Maalula: 033. M_ḎČ Die Geschichte des Brōm Wakīn.txt', '4. Maalula: 034. M_ḎČ Der starke Žuryes Šayyība.txt', '4. Maalula: 035. M_ḎČ Die Geschichte des Sarkes ʕAptalla.txt', '4. Maalula: 036. M_LS Yawse Drūb und di Hyäne.txt', '4. Maalula: 037. M_YB Der scherzende Bräutigam.txt', '4. Maalula: 038. M_YB Der Gang zur Mühle.txt', '4. Maalula: 039. M_YB Das zweite Stockwerk.txt', '4. Maalula: 040. M_MX Die beiden geistesschwachen Ehemänner.txt', '4. Maalula: 041. M_YS Der verrückte Kindesentführer.txt', '4. Maalula: 042. M_YS Die Nüsse im Tonkrug.txt', '4. Maalula: 043. M_YB Der Essenwunsch.txt', '4. Maalula: 044. M_ḤF Der Bär im Nußbaum.txt', '4. Maalula: 045. M_MB Die Jungrfäulichkeitstest.txt', '4. Maalula: 046. M_MB Der mutige Ehemann.txt', '4. Maalula: 047. M_ḤF Die Wasserpfeife im Irrenhaus.txt', '4. Maalula: 048. M_FŠ Die Frau und der Teufel.txt', '4. Maalula: 049. M_YB Ein billiges Abendessen.txt', '4. Maalula: 050. M_ŽČ Ein Rätsel und seine Lösung.txt', '4. Maalula: 051. M_YB Warum der Metzgergeselle aufgehängt wurde.txt', '4. Maalula: 052. M_YB Die Rache des Abu Nawwās.txt', '4. Maalula: 053. M_MB Die rote Unterhose.txt', '4. Maalula: 054. M_MM Nichts kehrte zurück.txt', '4. Maalula: 055. M_MḲ Der Baum, der keine Früchte trug.txt', '4. Maalula: 056. M_MḲ Die Ehefrau und das Gebet.txt', '4. Maalula: 057. M_AŽṢ Sodomie.txt', '4. Maalula: 058. M_ḤF Der sparsame Liebhaber.txt', '4. Maalula: 059. M_ḤF Der Geizige und der Knochen.txt', '4. Maalula: 060. M_ḤF Der Baum des Streits.txt', '4. Maalula: 061. M_MḤ Der deutsche Tourist und der Esel.txt', '4. Maalula: 062. M_MḤ Wie der junge Anwalt eine Ehescheidung verhinderte.txt', '4. Maalula: 063. M_MH Warum der Scheich tanzte.txt', '4. Maalula: 064. M_MH Der Bischof und der Tote.txt', '4. Maalula: 065. M_MH Das mißglückte Liebesabenteuer der drei Kirchenmänner.txt', '4. Maalula: 066. M_MB Die Urinprobe.txt', '4. Maalula: 067. M_MB Das Kreuzfest.txt', '4. Maalula: 068. M_MB Liebesgedicht.txt', '4. Maalula: 069. M_MX Hagel im Weinberg.txt', '4. Maalula: 070. M_SṬ Raḥme.txt', '4. Maalula: 071. M_ḤF Der mutige Bräutigam.txt', '4. Maalula: 072. M_ŽR Wohin gehst du.txt', '4. Maalula: 073. M_ŽR Lied für das Kreuzfest.txt', '4. Maalula: 074. M_ŽR Der Weinstock.txt', '5. Lehrbuch: 001. Lektion V. M_ḤF Der Geizige.txt', '5. Lehrbuch: 002. Lektion VII. M_MQ Die krumme Furche.txt', '5. Lehrbuch: 003. Lektion IX X. M_YB Die Hyäne.txt', '5. Lehrbuch: 006. M_ŽF Die drei Brüder und die Hexe.txt', '5. Lehrbuch: 007. M_MF Aus der Landwirtschaft.txt', '5. Lehrbuch: 008. M_MP Als Bäcker im Libanon während des Bürgerkriegs.txt', '7. Neue Lieder aus Maalula Žaržūra Ruzḳalla: 001. Barbara', '7. Neue Lieder aus Maalula Žaržūra Ruzḳalla: 002. Kreuzfest', '7. Neue Lieder aus Maalula Žaržūra Ruzḳalla: 003. Liebe in Maʕlūla', '7. Neue Lieder aus Maalula Žaržūra Ruzḳalla: 004. Līlil yumma', '7. Neue Lieder aus Maalula Žaržūra Ruzḳalla: 005. ʕAla Dalʕōna I', '7. Neue Lieder aus Maalula Žaržūra Ruzḳalla: 006. ʕAla Dalʕōna II', '7. Neue Lieder aus Maalula Žaržūra Ruzḳalla: 007. Der Schwanz des Hundes bleibt krumm', '7. Neue Lieder aus Maalula Žaržūra Ruzḳalla: 008. Liebeslied', '7. Neue Lieder aus Maalula Žaržūra Ruzḳalla: 009. Sohn Maʕlūlas', '7. Neue Lieder aus Maalula Žaržūra Ruzḳalla: 010. Kommt her!', '7. Neue Lieder aus Maalula Žaržūra Ruzḳalla: 011. Die Liebe', '7. Neue Lieder aus Maalula Žaržūra Ruzḳalla: 012. Auf dem Felsen am Kreuzfest']\n"
     ]
    }
   ],
   "source": [
    "aram_text_dict={}\n",
    "germ_text_dict={}\n",
    "names=[]\n",
    "for sent in korpus_sents:\n",
    "    if sent[0] not in names:\n",
    "        names.append(sent[0])\n",
    "print(names)"
   ]
  },
  {
   "cell_type": "code",
   "execution_count": 86,
   "metadata": {},
   "outputs": [],
   "source": [
    "def textgrid_fn(filename):\n",
    "    tg = textgrid.TextGrid.fromFile(filename)\n",
    "    sents_info=[]\n",
    "    for i in range(1, len(tg[0])-1):\n",
    "        help_time=[]\n",
    "        help_time.append(tg[0][i].minTime)\n",
    "        help_time.append(tg[0][i].maxTime)\n",
    "        sents_info.append(help_time)\n",
    "    return sents_info"
   ]
  },
  {
   "cell_type": "code",
   "execution_count": 87,
   "metadata": {},
   "outputs": [],
   "source": [
    "filenames=[]\n",
    "for i in range(len(nar_num)):\n",
    "    filenames.append(\"03b_MASC_textgrid_files/\"+nar_num[i]+\".TextGrid\")"
   ]
  },
  {
   "cell_type": "code",
   "execution_count": 88,
   "metadata": {},
   "outputs": [],
   "source": [
    "textgrids_first=[]\n",
    "for i in range(len(filenames)):\n",
    "    tgrid=textgrid_fn(filenames[i])\n",
    "    textgrids_first.append(tgrid)"
   ]
  },
  {
   "cell_type": "code",
   "execution_count": 90,
   "metadata": {},
   "outputs": [],
   "source": [
    "filenames_04=[\"textgrids/IV.04a.TextGrid\", \"textgrids/IV.04b.TextGrid\", \"textgrids/IV.04c.TextGrid\", \"textgrids/IV.04d.TextGrid\"]"
   ]
  },
  {
   "cell_type": "code",
   "execution_count": 91,
   "metadata": {},
   "outputs": [],
   "source": [
    "textgrids_04=[]\n",
    "for i in range(len(filenames_04)):\n",
    "    tgrid=textgrid_fn(filenames_04[i])\n",
    "    textgrids_04.extend(tgrid)"
   ]
  },
  {
   "cell_type": "code",
   "execution_count": 96,
   "metadata": {},
   "outputs": [
    {
     "name": "stdout",
     "output_type": "stream",
     "text": [
      "[[0.45, 9.52], [9.52, 20.48], [20.48, 37.34], [37.34, 46.43], [46.43, 60.51], [60.51, 69.51], [69.51, 73.95], [73.95, 83.14], [83.14, 95.22], [95.22, 107.73], [107.73, 114.16], [114.16, 124.14], [124.14, 138.22], [138.22, 144.96], [144.96, 148.4], [148.4, 171.59], [171.59, 182.87], [182.87, 187.4], [187.4, 193.94], [193.94, 198.55], [198.55, 207.7], [207.7, 217.21], [217.21, 228.59], [228.59, 233.77], [233.77, 239.5], [239.5, 250.2], [250.2, 254.94], [254.94, 257.18], [257.18, 263.37], [263.37, 268.19], [268.19, 272.79], [272.79, 279.45], [279.45, 297.97], [297.97, 303.55], [303.55, 317.21], [317.21, 325.92], [325.92, 338.16], [338.16, 346.42], [346.42, 352.26], [352.26, 354.81], [354.81, 373.61], [373.61, 380.41], [380.41, 387.23], [387.23, 398.64], [398.64, 406.1], [406.1, 417.83], [417.83, 425.16], [425.16, 431.18], [431.18, 438.09], [438.09, 443.29], [443.29, 449.87], [449.87, 458.81], [0.69, 7.89], [7.89, 13.18], [13.18, 26.55], [26.55, 32.83], [32.83, 41.24], [41.24, 51.36], [51.36, 54.17], [54.17, 57.82], [57.82, 64.91], [64.91, 70.09], [70.09, 80.06], [80.06, 85.86], [85.86, 97.31], [97.31, 106.77], [106.77, 120.01], [120.01, 125.52], [125.52, 126.85], [126.85, 140.17], [140.17, 148.65], [148.65, 164.81], [164.81, 183.83], [183.83, 194.82], [194.82, 196.95], [196.95, 201.08], [201.08, 207.8], [207.8, 218.5], [218.5, 228.08], [228.08, 231.49], [231.49, 251.49], [251.49, 255.67], [255.67, 260.59], [260.59, 261.69], [261.69, 269.61], [269.61, 271.79], [271.79, 274.09], [274.09, 275.04], [275.04, 276.94], [276.94, 277.97], [277.97, 280.17], [280.17, 281.11], [281.11, 293.44], [293.44, 302.18], [302.18, 315.97], [315.97, 323.76], [323.76, 330.15], [330.15, 338.56], [338.56, 348.87], [348.87, 354.69], [354.69, 363.67], [363.67, 376.58], [376.58, 379.85], [379.85, 387.34], [387.34, 392.61], [392.61, 399.15], [399.15, 407.52], [407.52, 410.53], [410.53, 414.32], [414.32, 418.72], [418.72, 423.48], [423.48, 426.54], [426.54, 442.91], [442.91, 445.96], [445.96, 448.1], [448.1, 459.54], [459.54, 462.24], [462.24, 471.7], [471.7, 479.78], [479.78, 491.47], [491.47, 495.84], [495.84, 504.25], [504.25, 507.48], [507.48, 512.79], [512.79, 523.48], [523.48, 537.89], [537.89, 543.23], [543.23, 547.33], [547.33, 554.71], [554.71, 557.65], [557.65, 564.41], [564.41, 571.25], [571.25, 588.42], [588.42, 594.73], [594.73, 601.08], [601.08, 603.43], [603.43, 609.38], [609.38, 614.18], [614.18, 617.75], [617.75, 622.42], [622.42, 632.44], [632.44, 639.78], [639.78, 645.11], [645.11, 648.47], [648.47, 652.92], [652.92, 655.74], [655.74, 658.54], [658.54, 668.74], [668.74, 678.14], [678.14, 681.68], [681.68, 684.24], [684.24, 689.56], [689.56, 692.98], [692.98, 703.66], [703.66, 707.36], [707.36, 716.0], [716.0, 720.31], [720.31, 729.21], [1.51, 4.42], [4.42, 12.52], [12.52, 14.35], [14.35, 18.64], [18.64, 22.82], [22.82, 25.49], [25.49, 35.7], [35.7, 37.0], [37.0, 38.07], [38.07, 39.0], [39.0, 40.66], [40.66, 41.6], [41.6, 43.43], [43.43, 51.92], [51.92, 59.54], [59.54, 60.52], [60.52, 63.5], [63.5, 70.12], [70.12, 74.6], [74.6, 85.55], [85.55, 90.91], [90.91, 97.74], [97.74, 106.5], [106.5, 116.42], [116.42, 127.12], [127.12, 129.93], [129.93, 133.7], [133.7, 135.74], [135.74, 144.53], [144.53, 147.85], [147.85, 150.93], [150.93, 172.32], [172.32, 182.45], [182.45, 194.72], [194.72, 198.34], [198.34, 215.58], [215.58, 225.3], [225.3, 242.33], [242.33, 247.04], [247.04, 263.54], [263.54, 266.0], [266.0, 267.28], [267.28, 274.76], [274.76, 280.98], [280.98, 284.42], [284.42, 286.27], [286.27, 291.04], [291.04, 301.63], [301.63, 305.5], [305.5, 314.99], [314.99, 318.08], [318.08, 326.25], [326.25, 331.31], [331.31, 338.35], [338.35, 341.86], [341.86, 358.25], [358.25, 362.8], [362.8, 364.49], [364.49, 373.16], [373.16, 375.51], [375.51, 385.31], [385.31, 391.72], [391.72, 401.2], [401.2, 404.53], [404.53, 407.11], [407.11, 416.82], [416.82, 420.33], [420.33, 425.33], [425.33, 429.02], [429.02, 433.44499], [433.44499, 445.16], [445.16, 449.71], [449.71, 457.76], [457.76, 467.67], [467.67, 476.03], [476.03, 478.95], [478.95, 485.22], [485.22, 491.32], [491.32, 499.99], [499.99, 506.9], [506.9, 510.59], [510.59, 520.55], [520.55, 526.85], [526.85, 533.85], [533.85, 537.87], [537.87, 545.45], [545.45, 548.78], [548.78, 551.92], [551.92, 555.67], [555.67, 557.39], [557.39, 565.01], [565.01, 567.03], [567.03, 569.9], [569.9, 575.33], [575.33, 580.23], [580.23, 582.35], [582.35, 585.38], [585.38, 586.24], [586.24, 587.81], [587.81, 588.7], [588.7, 589.57], [589.57, 590.35], [590.35, 592.91], [592.91, 593.58], [593.58, 594.4], [594.4, 595.02], [595.02, 595.91], [595.91, 597.64], [597.64, 599.51], [599.51, 602.37], [602.37, 604.89], [604.89, 611.68], [611.68, 615.16], [615.16, 619.0], [619.0, 623.89], [623.89, 634.5], [634.5, 638.85], [638.85, 642.21], [642.21, 645.42], [645.42, 650.49], [650.49, 652.71], [652.71, 661.83], [661.83, 676.86], [676.86, 679.53], [679.53, 682.4], [682.4, 683.35], [683.35, 688.43], [688.43, 697.06], [697.06, 700.05], [700.05, 704.05], [704.05, 712.09], [712.09, 733.51], [733.51, 740.38], [740.38, 758.31], [758.31, 773.8], [773.8, 780.47], [780.47, 783.88], [783.88, 787.4], [787.4, 793.66], [793.66, 812.32], [0.4, 14.02], [14.02, 18.63], [18.63, 35.29], [35.29, 49.14], [49.14, 63.17], [63.17, 95.39], [95.39, 109.73], [109.73, 123.66], [123.66, 129.27], [129.27, 132.14], [132.14, 143.78], [143.78, 154.02], [154.02, 165.39], [165.39, 180.71], [180.71, 195.17], [195.17, 204.76], [204.76, 209.05], [209.05, 220.8], [220.8, 232.76], [232.76, 236.33], [236.33, 246.28], [246.28, 249.87], [249.87, 272.82], [272.82, 289.18], [289.18, 300.53], [300.53, 312.7], [312.7, 339.68], [339.68, 345.01], [345.01, 349.29], [349.29, 353.74], [353.74, 357.19], [357.19, 371.25], [371.25, 373.16], [373.16, 378.0], [378.0, 385.51], [385.51, 395.9], [395.9, 400.42499], [400.42499, 404.14], [404.14, 405.55], [405.55, 413.46], [413.46, 417.64], [417.64, 422.27], [422.27, 435.49], [435.49, 440.33], [440.33, 442.94], [442.94, 446.85], [446.85, 450.0], [450.0, 454.29], [454.29, 469.17], [469.17, 475.71], [475.71, 478.2], [478.2, 481.18], [481.18, 482.8], [482.8, 490.69], [490.69, 494.44], [494.44, 496.15], [496.15, 497.07], [497.07, 499.19], [499.19, 506.82], [506.82, 511.96499], [511.96499, 516.16], [516.16, 524.29], [524.29, 530.46], [530.46, 535.86], [535.86, 537.38], [537.38, 541.57], [541.57, 545.41], [545.41, 548.67], [548.67, 553.91], [553.91, 557.37], [557.37, 563.85], [563.85, 570.39], [570.39, 575.05], [575.05, 579.0], [579.0, 582.72], [582.72, 583.59], [583.59, 594.01], [594.01, 602.86], [602.86, 611.37], [611.37, 616.92], [616.92, 626.53], [626.53, 634.48], [634.48, 637.73], [637.73, 640.27], [640.27, 645.54], [645.54, 655.65], [655.65, 657.93], [657.93, 661.89], [661.89, 672.52]]\n"
     ]
    }
   ],
   "source": [
    "tx_102=textgrids_first[102]\n",
    "textgrids=[textgrids_04 if x==tx_102 else x for x in textgrids_first]\n",
    "print(textgrids[102])"
   ]
  },
  {
   "cell_type": "markdown",
   "metadata": {},
   "source": [
    "Then, make dictionary out of Aramaic and German sents and metadata:"
   ]
  },
  {
   "cell_type": "code",
   "execution_count": 117,
   "metadata": {},
   "outputs": [],
   "source": [
    "text_dict={}\n",
    "aram_text=[]\n",
    "germ_text=[]\n",
    "\n",
    "for i in range(len(names)):\n",
    "    for j in range(len(korpus_sents)):\n",
    "        if korpus_sents[j][0]==names[i]:\n",
    "            aram_text.append(korpus_sents[j][1])\n",
    "            germ_text.append(korpus_sents[j][2])\n",
    "    if i<173:\n",
    "        speaker=meta_speaker[i][0]\n",
    "        age=meta_speaker[i][1]\n",
    "        gender=meta_speaker[i][2]\n",
    "        profession=meta_speaker[i][3]\n",
    "        narrative_num=meta_speaker[i][4]\n",
    "        narrative_subject=meta_speaker[i][5]\n",
    "        help_dict={\"aram\": {\"aram_text\": aram_text, \"times\": textgrids[i]}, \n",
    "                \"germ\": germ_text, \n",
    "                \"speaker\": speaker, \"age\": age, \"gender\": gender, \"profession\": profession,\n",
    "                \"narrative_num\": narrative_num, \"narrative_subject\": narrative_subject}\n",
    "    elif i==173:\n",
    "        help_dict={\"aram\": {\"aram_text\": aram_text}, \n",
    "                \"germ\": germ_text,\n",
    "                \"speaker\": \"Ḥabīb Fransīs\", \"age\": 26, \"gender\": \"M\", \"profession\": \"Trader, farmer\",\n",
    "                \"narrative_num\": nar_num_extended[i], \"narrative_subject\": \"UNK\"}\n",
    "    elif i==174:\n",
    "        help_dict={\"aram\": {\"aram_text\": aram_text}, \n",
    "                \"germ\": germ_text,\n",
    "                \"speaker\": \"Meḥsen Ḳamar\", \"age\": 45, \"gender\": \"M\", \"profession\": \"Farmer\",\n",
    "                \"narrative_num\": nar_num_extended[i], \"narrative_subject\": \"UNK\"}\n",
    "    elif i==175:\n",
    "        help_dict={\"aram\": {\"aram_text\": aram_text}, \n",
    "                \"germ\": germ_text,\n",
    "                \"speaker\": \"Yḥanne (Ḥannūne) Barkīla\", \"age\": 71, \"gender\": \"F\", \"profession\": \"Farmer\",\n",
    "                \"narrative_num\": nar_num_extended[i], \"narrative_subject\": \"UNK\"}\n",
    "    elif i==176:\n",
    "        help_dict={\"aram\": {\"aram_text\": aram_text}, \n",
    "                \"germ\": germ_text,\n",
    "                \"speaker\": \"ŽF\", \"age\": 0, \"gender\": \"UNK\", \"profession\": \"UNK\",\n",
    "                \"narrative_num\": nar_num_extended[i], \"narrative_subject\": \"UNK\"}\n",
    "    elif i==177:\n",
    "        help_dict={\"aram\": {\"aram_text\": aram_text}, \n",
    "                \"germ\": germ_text,\n",
    "                \"speaker\": \"MF\", \"age\": 0, \"gender\": \"UNK\", \"profession\": \"UNK\",\n",
    "                \"narrative_num\": nar_num_extended[i], \"narrative_subject\": \"UNK\"}\n",
    "    elif i==178:\n",
    "        help_dict={\"aram\": {\"aram_text\": aram_text}, \n",
    "                \"germ\": germ_text,\n",
    "                \"speaker\": \"MP\", \"age\": 0, \"gender\": \"UNK\", \"profession\": \"UNK\",\n",
    "                \"narrative_num\": nar_num_extended[i], \"narrative_subject\": \"UNK\"}\n",
    "    else:\n",
    "        help_dict={\"aram\": {\"aram_text\": aram_text}, \n",
    "                \"germ\": germ_text,\n",
    "                \"speaker\": \"Žaržūra Ruzḳalla\", \"age\": 53, \"gender\": \"M\", \"profession\": \"Teacher\",\n",
    "                \"narrative_num\": nar_num_extended[i], \"narrative_subject\": \"UNK\"}     \n",
    "    text_dict[names[i]]=help_dict\n",
    "    aram_text=[]\n",
    "    germ_text=[]"
   ]
  },
  {
   "cell_type": "markdown",
   "metadata": {},
   "source": [
    "Here is how it looks like:"
   ]
  },
  {
   "cell_type": "code",
   "execution_count": 101,
   "metadata": {},
   "outputs": [
    {
     "name": "stdout",
     "output_type": "stream",
     "text": [
      "{'aram': {'aram_text': ['001. ġappaynaḥ žubaylīṯa, // menna čūṯ b-naḥḥīṯa, // ḳaṭṭūfa felkil ṭarča, // w ʕinbōya wḳīṯa wḳīṯa.', '002. arʕa ṭōba w čannīḥa, // w hī mṯīḥa l-felkiš šenna. // maḥkemla ḳalles rīḥa, // mappēla w šōḳel menna.', '003. ʕayna ʕa ġanna faṯṯīḥa, // faṯṯīḥa ʕayna ʕa ġanna, // b-arʕa ču čmiščaḥ sīḥa, // w lā salla w la ʕurnīṯa.', '004. taxlax yā mōrlə mrūṯa, // zēx ʕa liššōni malle, // in batte ḥamra l-maščūṯa, // lə-ḥḏūṯa: «ṯāx əšḳolle!»', '005. w ti batte zaxma w ḳūṯa, // yīxul w yʕappis selle, // m-ġofna b-ʕezziš šappūṯa, // lā nzīʕa w la mallīṯa.', '006. xarma batte manṭarča, // mn-awwal yōma ynuṭrunne, // lā čiʕbarle mẓanṭarča, // w lā_rəʕwōṯa yirʕunne,', '007. w lā ṭiflōyəl ḳanṭarča, // ḥummaʕyōṯa yuxlunne. // ṯōḳen ḳaṭṭūfəl ṭarča // ṣumte p-satril ʕillīṯa.', '008. ʕemmil nohra sallīḳa, // w šḳīla b-īḏa makla; // ayṯaṯ ṭaʕnič čuwrīḳa, // ḥṣōḏa ex zarʕa m-ḥaḳla.', '009. lā ōṯ ommṯa šallīḳa, // w lā naṭōra yiffoḳla, // m-xarma l-xarma marrīḳa, // ču ġappa mett əḥṭīṯa.', '010. čmappēla mennax mappōx, // eḥḏa w ṯarč w eṯlaṯ sill, // w bess meʕla čōġeb ʕaynōx // zlōla w lā mamrōx: «zlill.»', '011. b-awwalča waybin tiḏōx // maḥkillax meʕla w maḥkill; // hōši iṯḳen xarma bōx, // ʕa šoġla w ʕa ḥinnīṯa.', '012. yīfuš ti čṯēx l-ġappe, // čmiščaḥ ġawza w pšōṯa, // ōxel w mišwi b-ʕoppe, // w šōḳel m-maḥərmōṯa.', '013. hōš w lā payṯa uppe, // m-pulpel l-faččalyōṯa, // činya mn-imma w mō sappe, // ʕatinne blōta mīṯaṯ.', '014. činya blōtaḥ mō hatta, // ṯiḳnaṯ būra ya ḥayna. // ču čmiščaḥ yatta b-yatta, // w la leppa ʕa leppa w ʕayna.', '015. naffīḳin ḳatta p-ḳatta, // matʕasṯa r-rappa ḥayna. // uxxl_aḥḥaḏ mōmar: «hatta!» // in saḳṭič orḥa ḥrīṯa.', '016. emḥar nōzin ʕa šṭōḥa, // ṯāš w la čihkul hamma. // ṯalla mn-iḥl əṣbōḥa, // w mō laḳša iḥl əm-ṯemma.', '017. ġrīḥin ḥankōya ġrōḥa, // summūḳin činya mn-imma. // xulle m-xayril fallōḥa, // w xulle mn-ōž žubaylīṯa.'], 'times': [[0.5, 9.43], [9.43, 20.46], [20.46, 30.44], [30.44, 40.91], [40.91, 50.49], [50.49, 61.75], [61.75, 70.91], [70.91, 82.59], [82.59, 91.97], [91.97, 102.85], [102.85, 112.54], [112.54, 123.38], [123.38, 133.31], [133.31, 143.79], [143.79, 153.16], [153.16, 164.9], [164.9, 173.35]]}, 'germ': ['001. Wir haben einen žubaylīṯa-Weinstock, // wie es ihn im ganzen Viertel nicht gibt, // sein Träubel (wiegt) ein halbes Ratl, // und seine Trauben (wiegen) viele Unzen (wörtl.: Unze um Unze).', '002. Der Boden ist gut und ausgeruht, // und erstreckt sich bis zur halben (Höhe des) Felsens; // der Wind streicht ein wenig darüber hinweg, // und gibt und nimmt davon.', '003. Das Auge hat einen Blick auf den Garten (wörtl.: das Auge ist auf den Garten geöffnet, d. h. man kümmert sich darum), // einen Blick hat das Auge auf den Garten, (denn) // auf der Erde findest du keine Disteln, // und kein Unkraut und keine wilde Pfefferminze.', '004. Ich bitte dich, oh Herr der Tugend, // geh und sag zu ihm von mir (wörtl.: von meiner Zunge), // falls er Wein braucht für die Hochzeit, // für den Bräutigam: «Komm und hol ihn!»', '005. Und wer Kraft und Stärke braucht, // soll essen und seinen Korb füllen, // von dem Weinstock, der in der Blüte der Jugend ist, // weder eingegangen noch voller Ungeziefer.', '006. Ein Weinberg braucht Bewachung, // vom ersten Tag an soll er bewacht werden, // damit ihn nicht (beim Pflücken von Weinblättern) eine rücksichtslose Frau betritt, // und damit (die Tiere) nicht die Grundstücke abweiden,', '007. und damit nicht die Kinder aus dem ḳanṭarča (genannten Viertel von Maʕlūla) // die grünen Trauben essen. // Dann wird das Träubel ein Ratl (wiegen), // stell es aus im hinteren Teil des Zimmers im Obergeschoß (d. h. am besten Platz im Haus)!', '008. Bei Tagesanbruch (wörtl. mit dem Licht) ist (die Frau) hinaufgegegangen, // und hat in ihrer Hand eine Sichel mitgenommen; // sie brachte ein Bündel Weinblätter, // eine Ernte, wie die des Getreides vom Feld.', '009. Es gibt keine Leute, die (darüber) erbost sind (wörtl.: kochen), // und keinen Wächter, der es ihr abnimmt, // von Weinberg zu Weinberg ist sie gegangen (wörtl.: passiert), // und sie hat keinerlei Sünde (begangen).', '010. Du gibst ihr von dir, und sie gibt dir, // einen, und zwei und (auch) drei Körbe (voll), // Und wenn du deine Augen von ihr abwendest, // geht sie und sagt nicht zu dir: «Ich bin gegangen.»', '011. Früher haben dir deine Angehörigen, // davon berichtet, und sie haben mir berichtet; // jetzt hat der Weinberg zu weinen begonnen, // vor (Sehnsucht nach) Arbeit (im Weinberg) und Zuneigung.', '012. Du wirst überhaupt nicht mehr, wenn du zu ihm kommst, // Nüsse und Rosinen finden, // die man ißt und in seine Tasche steckt, // und in den Taschentüchern mitnimmt.', '013. Jetzt gibt es in keinem einzigen Haus mehr (Nüsse und Rosinen), // von pulpel bis faččalyōṯa, // ich weiß nicht woher (das kommt), und was der Grund dafür ist, // als ob das Dorf gestorben wäre.', '014. Ich weiß nicht, was unser Dorf so zu Grunde gerichtet hat, // es ist Ödland geworden, oh Schande (wörtl.: Tod). // Du findest nicht Hand neben Hand (bei der Arbeit), // und kein Herz bei Herz und Auge.', '015. Sie (die Weinstöcke) waren groß und stattlich (wörtl.: Wuchs um Wuchs) herausgekommen, // (aber) das Zertreten ist für das Große der Tod. // Jeder sagt: «Halt ein!», // wenn du zum zweiten Mal fällst.', '016. Morgen gehen wir zum Ausbreiten (der Trauben zum Trocknen), // komm und mach dir keine Sorgen. // Sie kam am schönsten Morgen, // und wie süß war das Geplauder aus ihrem Mund.', '017. Ihre Wangen waren mit Wunden verletzt, // sie waren rot, und ich weiß nicht wovon. // Alles (kommt) vom Gut des Bauern, // und alles (kommt) von diesem žubaylīṯa-Weinstock.'], 'speaker': 'Žaržūra Ruzḳalla', 'age': 50, 'gender': 'M', 'profession': 'Teacher', 'narrative_num': 'IV.74', 'narrative_subject': 'Songs and poems'}\n"
     ]
    }
   ],
   "source": [
    "print(text_dict[\"4. Maalula: 074. M_ŽR Der Weinstock.txt\"])"
   ]
  },
  {
   "cell_type": "markdown",
   "metadata": {},
   "source": [
    "## Final preparations"
   ]
  },
  {
   "cell_type": "code",
   "execution_count": 118,
   "metadata": {},
   "outputs": [],
   "source": [
    "def text_to_tok(text_to_tokens, lang):\n",
    "    first_tokens = nltk.word_tokenize(text_to_tokens)\n",
    "    final_tokens=[]\n",
    "    \n",
    "    for tok in first_tokens:\n",
    "        if lang==\"aram\":\n",
    "            tok=tok.lower()\n",
    "\n",
    "        if \"-\" in tok:\n",
    "            if tok.split(\"-\")[-1]!=\"\":\n",
    "                final_tokens.extend([tok.split(\"-\")[0], \"-\", tok.split(\"-\")[1]])\n",
    "            else:\n",
    "                final_tokens.append(tok)\n",
    "        elif \"_\" in tok:\n",
    "            final_tokens.extend([tok.split(\"_\")[0], \"_\", tok.split(\"_\")[1]])\n",
    "        else:\n",
    "            final_tokens.append(tok)\n",
    "    return final_tokens"
   ]
  },
  {
   "cell_type": "markdown",
   "metadata": {},
   "source": [
    "Get German lemmata and part-of-speech tags:"
   ]
  },
  {
   "cell_type": "code",
   "execution_count": 119,
   "metadata": {},
   "outputs": [
    {
     "name": "stdout",
     "output_type": "stream",
     "text": [
      "<class 'pandas.core.frame.DataFrame'>\n",
      "RangeIndex: 8706 entries, 0 to 8705\n",
      "Data columns (total 3 columns):\n",
      " #   Column    Non-Null Count  Dtype \n",
      "---  ------    --------------  ----- \n",
      " 0   wordform  8706 non-null   object\n",
      " 1   lemma     8706 non-null   object\n",
      " 2   pos_tag   8706 non-null   object\n",
      "dtypes: object(3)\n",
      "memory usage: 204.2+ KB\n"
     ]
    }
   ],
   "source": [
    "germ_df=pd.read_csv(\"german_csv.csv\")\n",
    "germ_df.info()"
   ]
  },
  {
   "cell_type": "code",
   "execution_count": 120,
   "metadata": {},
   "outputs": [
    {
     "name": "stdout",
     "output_type": "stream",
     "text": [
      "Maʕlūla\n"
     ]
    }
   ],
   "source": [
    "germ_wfs=germ_df[\"wordform\"].tolist()\n",
    "print(germ_wfs[5])"
   ]
  },
  {
   "cell_type": "markdown",
   "metadata": {},
   "source": [
    "Function for German words:"
   ]
  },
  {
   "cell_type": "code",
   "execution_count": 122,
   "metadata": {},
   "outputs": [],
   "source": [
    "def germ_words_fn(sentence):\n",
    "    words=text_to_tok(sentence, \"germ\")\n",
    "\n",
    "    words_list=[]\n",
    "    c=1\n",
    "    d=1\n",
    "    off_start=0\n",
    "    off_end=0\n",
    "\n",
    "    puncts=\":_“(...,')«»//;—?!”-’\"\n",
    "    punct1=\"...,”?!:;»)\"\n",
    "    punct2=\"—//\"\n",
    "    punct3=\"«(“\"\n",
    "    punct4=\"-_/’\"\n",
    "    \n",
    "    num_words=1\n",
    "\n",
    "    for word in words:\n",
    "        if word.isalpha() or \"ḏ̣\" in word:\n",
    "            num_words+=1\n",
    "\n",
    "\n",
    "    for i in range(len(words)):\n",
    "\n",
    "        words_dict={}\n",
    "        words_dict[\"wf\"]=words[i]\n",
    "        \n",
    "        off_end=off_start+len(words[i])\n",
    "\n",
    "        if words[i].startswith(\"0\"):\n",
    "            words_dict[\"wtype\"]=\"punct\"\n",
    "            words_dict[\"off_start\"]=off_start\n",
    "            words_dict[\"off_end\"]=off_end\n",
    "            off_start=off_end+1\n",
    "\n",
    "        elif words[i] in puncts:\n",
    "            words_dict[\"wtype\"]=\"punct\"\n",
    "            if words[i] in punct1:\n",
    "                words_dict[\"off_start\"]=off_start-1\n",
    "                words_dict[\"off_end\"]=off_end-1\n",
    "                off_start=off_end\n",
    "\n",
    "            if words[i] in punct2: \n",
    "                words_dict[\"off_start\"]=off_start\n",
    "                words_dict[\"off_end\"]=off_end \n",
    "                off_start=off_end+1\n",
    "\n",
    "            if words[i] in punct3: \n",
    "                words_dict[\"off_start\"]=off_start\n",
    "                words_dict[\"off_end\"]=off_end\n",
    "                off_start=off_end  \n",
    "\n",
    "            if words[i] in punct4: \n",
    "                words_dict[\"off_start\"]=off_start-1\n",
    "                words_dict[\"off_end\"]=off_end-1 \n",
    "                off_start=off_end-1\n",
    "\n",
    "        else:\n",
    "            words_dict[\"wtype\"]=\"word\"\n",
    "            words_dict[\"off_start\"]=off_start\n",
    "            words_dict[\"off_end\"]=off_end\n",
    "            off_start=off_end+1                 \n",
    "                \n",
    "        words_dict[\"next_word\"]=c\n",
    "        \n",
    "        if c!=1 and c!=len(words):\n",
    "            words_dict[\"sentence_index\"]=c-1\n",
    "            if words_dict[\"wtype\"]!=\"punct\":\n",
    "                words_dict[\"sentence_index_neg\"]=num_words-d\n",
    "                d+=1\n",
    "\n",
    "        c+=1\n",
    "\n",
    "        if words_dict[\"wtype\"]==\"word\":\n",
    "            ana_list=[]\n",
    "            ana_dict={}\n",
    "            if words[i] in germ_wfs:\n",
    "                ana_dict[\"lex\"]=germ_df.loc[germ_df.wordform == words[i],'lemma'].item()\n",
    "                ana_dict[\"gr.pos\"]=germ_df.loc[germ_df.wordform == words[i],'pos_tag'].item()\n",
    "            elif words[i].lower() in germ_wfs:\n",
    "                ana_dict[\"lex\"]=germ_df.loc[germ_df.wordform == words[i].lower(),'lemma'].item()\n",
    "                ana_dict[\"gr.pos\"]=germ_df.loc[germ_df.wordform == words[i].lower(),'pos_tag'].item()              \n",
    "            else:\n",
    "                ana_dict[\"lex\"] = \"UNK\"\n",
    "                ana_dict[\"gr.pos\"] = \"UNK\"\n",
    "            ana_list.append(ana_dict)\n",
    "            words_dict[\"ana\"]=ana_list\n",
    "\n",
    "        words_list.append(words_dict)\n",
    "    return words_list"
   ]
  },
  {
   "cell_type": "markdown",
   "metadata": {},
   "source": [
    "Here is how output looks like:"
   ]
  },
  {
   "cell_type": "code",
   "execution_count": 123,
   "metadata": {},
   "outputs": [
    {
     "name": "stdout",
     "output_type": "stream",
     "text": [
      "[{'wf': 'zu', 'wtype': 'word', 'off_start': 0, 'off_end': 2, 'next_word': 1, 'ana': [{'lex': 'zu', 'gr.pos': 'ADP'}]}]\n"
     ]
    }
   ],
   "source": [
    "print(germ_words_fn(\"zu\"))"
   ]
  },
  {
   "cell_type": "markdown",
   "metadata": {},
   "source": [
    "Function for Aramaic words:"
   ]
  },
  {
   "cell_type": "code",
   "execution_count": 124,
   "metadata": {},
   "outputs": [],
   "source": [
    "def aram_words_fn(sentence):\n",
    "    words=text_to_tok(sentence, \"aram\")\n",
    "\n",
    "    words_list=[]\n",
    "    c=1\n",
    "    d=1\n",
    "    off_start=0\n",
    "    off_end=0\n",
    "\n",
    "    puncts=\":_“(...,')«»//;—?!”-’\"\n",
    "    punct1=\"...,”?!:;»)\"\n",
    "    punct2=\"—//\"\n",
    "    punct3=\"«(“\"\n",
    "    punct4=\"-_/’\"\n",
    "    \n",
    "    num_words=1\n",
    "\n",
    "    for word in words:\n",
    "        if word.isalpha() or \"ḏ̣\" in word:\n",
    "            num_words+=1\n",
    "\n",
    "    for i in range(len(words)):\n",
    "        words_dict={}\n",
    "        words_dict[\"wf\"]=words[i]\n",
    "        \n",
    "        off_end=off_start+len(words[i])\n",
    "\n",
    "        if words[i].startswith(\"0\"):\n",
    "            words_dict[\"wtype\"]=\"punct\"\n",
    "            words_dict[\"off_start\"]=off_start\n",
    "            words_dict[\"off_end\"]=off_end\n",
    "            off_start=off_end+1\n",
    "\n",
    "        elif words[i] in puncts:\n",
    "            words_dict[\"wtype\"]=\"punct\"\n",
    "            if words[i] in punct1:\n",
    "                words_dict[\"off_start\"]=off_start-1\n",
    "                words_dict[\"off_end\"]=off_end-1\n",
    "                off_start=off_end\n",
    "\n",
    "            if words[i] in punct2: \n",
    "                words_dict[\"off_start\"]=off_start\n",
    "                words_dict[\"off_end\"]=off_end \n",
    "                off_start=off_end+1\n",
    "\n",
    "            if words[i] in punct3: \n",
    "                words_dict[\"off_start\"]=off_start\n",
    "                words_dict[\"off_end\"]=off_end\n",
    "                off_start=off_end  \n",
    "\n",
    "            if words[i] in punct4: \n",
    "                words_dict[\"off_start\"]=off_start-1\n",
    "                words_dict[\"off_end\"]=off_end-1 \n",
    "                off_start=off_end-1\n",
    "\n",
    "        else:\n",
    "            words_dict[\"wtype\"]=\"word\"\n",
    "            words_dict[\"off_start\"]=off_start\n",
    "            words_dict[\"off_end\"]=off_end\n",
    "            off_start=off_end+1                 \n",
    "                \n",
    "        words_dict[\"next_word\"]=c\n",
    "        \n",
    "        if c!=1 and c!=len(words):\n",
    "            words_dict[\"sentence_index\"]=c-1\n",
    "            if words_dict[\"wtype\"]!=\"punct\":\n",
    "                words_dict[\"sentence_index_neg\"]=num_words-d\n",
    "                d+=1\n",
    "\n",
    "        c+=1\n",
    "        \n",
    "        if words_dict[\"wtype\"]==\"word\":\n",
    "            ana_list=[]\n",
    "            if words[i].startswith(\"ə\"):\n",
    "                words[i]=words[i][1:]\n",
    "            analyses=a.analyze_words(words[i])\n",
    "            for analysis in analyses:\n",
    "                ana_dict={}\n",
    "                ana_dict[\"lex\"]=analysis.lemma\n",
    "                for gram in analysis.gramm.split(\",\"):\n",
    "                    gramm_attr=\"gr.\"+str(gramm_dict[gram])\n",
    "                    ana_dict[gramm_attr]=gram\n",
    "                ana_list.append(ana_dict)\n",
    "            words_dict[\"ana\"]=ana_list\n",
    "\n",
    "        words_list.append(words_dict)\n",
    "    return words_list"
   ]
  },
  {
   "cell_type": "markdown",
   "metadata": {},
   "source": [
    "Grammar dictionary for mapping grammatical features with their categories:"
   ]
  },
  {
   "cell_type": "code",
   "execution_count": 125,
   "metadata": {},
   "outputs": [],
   "source": [
    "gramm_dict={\n",
    "    \"NOUN\": \"pos\",\n",
    "    \"VERB\": \"pos\",\n",
    "    \"PRON\": \"pos\",\n",
    "    \"DET\": \"pos\",\n",
    "    \"ADJ\": \"pos\",\n",
    "    \"SCONJ\": \"pos\",\n",
    "    \"CCONJ\": \"pos\",\n",
    "    \"PREP\": \"pos\",\n",
    "    \"ADV\": \"pos\",\n",
    "    \"PROPN\": \"pos\",\n",
    "    \"PART\": \"pos\",\n",
    "    \"AUX\": \"pos\",\n",
    "    \"NUM\": \"pos\",\n",
    "    \"NEG\": \"pos\",\n",
    "    \"INTJ\": \"pos\",\n",
    "    \"Pl\": \"number\",\n",
    "    \"ZPl\": \"number\",\n",
    "    \"Sg\": \"number\",\n",
    "    \"3\": \"person\",\n",
    "    \"2\": \"person\",\n",
    "    \"1\": \"person\",\n",
    "    \"f\": \"gender\",\n",
    "    \"m\": \"gender\",\n",
    "    \"c\": \"gender\",\n",
    "    \"Pers\": \"pron_type\",\n",
    "    \"Det\": \"pron_type\",\n",
    "    \"Inter\": \"pron_type\",\n",
    "    \"Rel\": \"pron_type\",\n",
    "    \"Poss\": \"pron_type\",\n",
    "    \"Tot\": \"pron_type\",\n",
    "    \"Ind\": \"pron_type\",\n",
    "    \"Refl\": \"pron_type\",\n",
    "    \"Loc\": \"adv_type\",\n",
    "    \"Temp\": \"adv_type\",\n",
    "    \"Mod\": \"adv_type\",\n",
    "    \"other\": \"adv_type\",\n",
    "    \"Neg\": \"part_type\",\n",
    "    \"Imp\": \"mood\",\n",
    "    \"Subj\": \"mood\",\n",
    "    \"Free\": \"prep_form\",\n",
    "    \"Indef\": \"adj_det\",\n",
    "    \"Def\": \"adj_det\",\n",
    "    \"\": \"unk\",\n",
    "    \"Prs\": \"tense\",\n",
    "    \"Perf\": \"tense\",\n",
    "    \"Praet\": \"tense\",\n",
    "    \"O.1cs\": \"object\",\n",
    "    \"O.1cp\": \"object\",\n",
    "    \"O.2ms\": \"object\",\n",
    "    \"O.2fs\": \"object\",\n",
    "    \"O.2mp\": \"object\",\n",
    "    \"O.2fp\": \"object\",\n",
    "    \"O.3mp\": \"object\",\n",
    "    \"O.3ms\": \"object\",\n",
    "    \"O.3fp\": \"object\",\n",
    "    \"O.3fs\": \"object\",\n",
    "    \"D.1cs\": \"object\",\n",
    "    \"D.1cp\": \"object\",\n",
    "    \"D.2ms\": \"object\",\n",
    "    \"D.2fs\": \"object\",\n",
    "    \"D.2mp\": \"object\",\n",
    "    \"D.2fp\": \"object\",\n",
    "    \"D.3mp\": \"object\",\n",
    "    \"D.3ms\": \"object\",\n",
    "    \"D.3fp\": \"object\",\n",
    "    \"D.3fs\": \"object\",\n",
    "    \"Dopp.1cs\": \"object\",\n",
    "    \"Dopp.1cp\": \"object\",\n",
    "    \"Dopp.2ms\": \"object\",\n",
    "    \"Dopp.2fs\": \"object\",\n",
    "    \"Dopp.2mp\": \"object\",\n",
    "    \"Dopp.2fp\": \"object\",\n",
    "    \"Dopp.3mp\": \"object\",\n",
    "    \"Dopp.3ms\": \"object\",\n",
    "    \"Dopp.3fp\": \"object\",\n",
    "    \"Dopp.3fs\": \"object\",\n",
    "    \"POSS.1cs\": \"POSS\",\n",
    "    \"POSS.1cp\": \"POSS\",\n",
    "    \"POSS.2ms\": \"POSS\",\n",
    "    \"POSS.2fs\": \"POSS\",\n",
    "    \"POSS.2mp\": \"POSS\",\n",
    "    \"POSS.2fp\": \"POSS\",\n",
    "    \"POSS.3mp\": \"POSS\",\n",
    "    \"POSS.3ms\": \"POSS\",\n",
    "    \"POSS.3fp\": \"POSS\",\n",
    "    \"POSS.3fs\": \"POSS\",\n",
    "    \"POSS.3cp\": \"POSS\",\n",
    "    \"DOM\": \"DOM\",\n",
    "    \"I\": \"Stamm\",\n",
    "    \"II\": \"Stamm\",\n",
    "    \"III\": \"Stamm\",\n",
    "    \"IIIy\": \"Stamm\",\n",
    "    \"IV\": \"Stamm\",\n",
    "    \"IVy\": \"Stamm\",\n",
    "    \"I7\": \"Stamm\",\n",
    "    \"I8\": \"Stamm\",\n",
    "    \"I10\": \"Stamm\",\n",
    "    \"IIy\": \"Stamm\",\n",
    "    \"In\": \"Stamm\",\n",
    "    \"Iʔ\": \"Stamm\",\n",
    "    \"IIw\": \"Stamm\",\n",
    "    \"Iy\": \"Stamm\",\n",
    "    \"Iw\": \"Stamm\",\n",
    "    \"Elat\": \"Degree\",\n",
    "    \"II2\": \"Stamm\",\n",
    "    \"III2\": \"Stamm\",\n",
    "    \"HD\": \"HD\",\n",
    "    \"PER\": \"PROPN_type\",\n",
    "    \"LOC\": \"PROPN_type\",\n",
    "    \"Ord\": \"num_type\",\n",
    "    \"Card\": \"num_type\"\n",
    "}"
   ]
  },
  {
   "cell_type": "markdown",
   "metadata": {},
   "source": [
    "## Final"
   ]
  },
  {
   "cell_type": "markdown",
   "metadata": {},
   "source": [
    "Code that produces `.json` files needed for tsakorpus:"
   ]
  },
  {
   "cell_type": "code",
   "execution_count": 127,
   "metadata": {},
   "outputs": [
    {
     "name": "stdout",
     "output_type": "stream",
     "text": [
      "III.01\n",
      "III.02\n",
      "III.03\n",
      "III.04\n",
      "III.05\n",
      "III.06\n",
      "III.07\n",
      "III.08\n",
      "III.09\n",
      "III.10\n",
      "III.11\n",
      "III.12\n",
      "III.13\n",
      "III.14\n",
      "III.15\n",
      "III.16\n",
      "III.17\n",
      "III.18\n",
      "III.19\n",
      "III.20\n",
      "III.21\n",
      "III.22\n",
      "III.23\n",
      "III.24\n",
      "III.25\n",
      "III.26\n",
      "III.27\n",
      "III.28\n",
      "III.29\n",
      "III.30\n",
      "III.31\n",
      "III.32\n",
      "III.33\n",
      "III.34\n",
      "III.35\n",
      "III.36\n",
      "III.37\n",
      "III.38\n",
      "III.39\n",
      "III.40\n",
      "III.41\n",
      "III.42\n",
      "III.43\n",
      "III.44\n",
      "III.45\n",
      "III.46\n",
      "III.47\n",
      "III.48\n",
      "III.49\n",
      "III.50\n",
      "III.51\n",
      "III.52\n",
      "III.53\n",
      "III.54\n",
      "III.55\n",
      "III.56\n",
      "III.57\n",
      "III.58\n",
      "III.59\n",
      "III.60\n",
      "III.61\n",
      "III.62\n",
      "III.63\n",
      "III.64\n",
      "III.65\n",
      "III.66\n",
      "III.67\n",
      "III.68\n",
      "III.69\n",
      "III.70\n",
      "III.71\n",
      "III.72\n",
      "III.73\n",
      "III.74\n",
      "III.75\n",
      "III.76\n",
      "III.77\n",
      "III.78\n",
      "III.79\n",
      "III.80\n",
      "III.81\n",
      "III.82\n",
      "III.83\n",
      "III.84\n",
      "III.85\n",
      "III.86\n",
      "III.87\n",
      "III.88\n",
      "III.89\n",
      "III.90\n",
      "III.91\n",
      "III.92\n",
      "III.93\n",
      "III.94\n",
      "III.95\n",
      "III.96\n",
      "III.97\n",
      "III.98\n",
      "III.99\n",
      "IV.01\n",
      "IV.02\n",
      "IV.03\n",
      "IV.04\n",
      "IV.05\n",
      "IV.06\n",
      "IV.07\n",
      "IV.08\n",
      "IV.09\n",
      "IV.10\n",
      "IV.11\n",
      "IV.12\n",
      "IV.13\n",
      "IV.14\n",
      "IV.15\n",
      "IV.16\n",
      "IV.17\n",
      "IV.18\n",
      "IV.19\n",
      "IV.20\n",
      "IV.21\n",
      "IV.22\n",
      "IV.23\n",
      "IV.24\n",
      "IV.25\n",
      "IV.26\n",
      "IV.27\n",
      "IV.28\n",
      "IV.29\n",
      "IV.30\n",
      "IV.31\n",
      "IV.32\n",
      "IV.33\n",
      "IV.34\n",
      "IV.35\n",
      "IV.36\n",
      "IV.37\n",
      "IV.38\n",
      "IV.39\n",
      "IV.40\n",
      "IV.41\n",
      "IV.42\n",
      "IV.43\n",
      "IV.44\n",
      "IV.45\n",
      "IV.46\n",
      "IV.47\n",
      "IV.48\n",
      "IV.49\n",
      "IV.50\n",
      "IV.51\n",
      "IV.52\n",
      "IV.53\n",
      "IV.54\n",
      "IV.55\n",
      "IV.56\n",
      "IV.57\n",
      "IV.58\n",
      "IV.59\n",
      "IV.60\n",
      "IV.61\n",
      "IV.62\n",
      "IV.63\n",
      "IV.64\n",
      "IV.65\n",
      "IV.66\n",
      "IV.67\n",
      "IV.68\n",
      "IV.69\n",
      "IV.70\n",
      "IV.71\n",
      "IV.72\n",
      "IV.73\n",
      "IV.74\n",
      "V.01\n",
      "V.02\n",
      "V.03\n",
      "V.06\n",
      "V.07\n",
      "V.08\n",
      "VII.01\n",
      "VII.02\n",
      "VII.03\n",
      "VII.04\n",
      "VII.05\n",
      "VII.06\n",
      "VII.07\n",
      "VII.08\n",
      "VII.09\n",
      "VII.10\n",
      "VII.11\n",
      "VII.12\n"
     ]
    }
   ],
   "source": [
    "aram_para_id=100\n",
    "germ_para_id=100\n",
    "aram_src_id=\"50_\"+str(aram_para_id)\n",
    "germ_src_id=\"50_\"+str(germ_para_id)\n",
    "\n",
    "k=0\n",
    "l=0\n",
    "i=1\n",
    "m=1\n",
    "\n",
    "for text in text_dict:\n",
    "    print(text_dict[text][\"narrative_num\"])\n",
    "    meta_dict={}\n",
    "    meta_dict[\"filename\"]=text\n",
    "    meta_dict[\"title\"]=text\n",
    "    meta_dict[\"village\"]=\"Maalula\"\n",
    "    meta_dict[\"narrative_subject\"]=text_dict[text][\"narrative_subject\"]\n",
    "    meta_dict[\"speaker\"]=text_dict[text][\"speaker\"]\n",
    "    meta_dict[\"gender\"]=text_dict[text][\"gender\"]\n",
    "    meta_dict[\"age\"]=text_dict[text][\"age\"]\n",
    "    meta_dict[\"profession\"]=text_dict[text][\"profession\"]\n",
    "\n",
    "    sentences_list=[]\n",
    "    text_len=len(text_dict[text][\"aram\"])\n",
    "    k+=1\n",
    "    l+=1\n",
    "    \n",
    "    for j in range(len(text_dict[text][\"aram\"][\"aram_text\"])):\n",
    "        sentence_dict={}\n",
    "        sentence_dict[\"text\"]=text_dict[text][\"aram\"][\"aram_text\"][j]\n",
    "        sentence_dict[\"words\"]=aram_words_fn(text_dict[text][\"aram\"][\"aram_text\"][j])\n",
    "        sentence_dict[\"lang\"]=0\n",
    "        sentence_dict[\"meta\"]={}\n",
    "        sentence_dict[\"para_alignment\"]=[{\"off_start\": 0, \"off_end\": len(text_dict[text][\"aram\"][\"aram_text\"][j]), \"para_id\": aram_para_id}]\n",
    "        if \"times\" in text_dict[text][\"aram\"]:\n",
    "            if k==103:\n",
    "                if i<53:\n",
    "                    sentence_dict[\"src_alignment\"]=[{\"off_start_src\": text_dict[text][\"aram\"][\"times\"][j][0], \"off_end_src\": text_dict[text][\"aram\"][\"times\"][j][1], \n",
    "                                            \"off_start_sent\": 0, \"off_end_sent\": len(text_dict[text][\"aram\"][\"aram_text\"][j]), \"mtype\": \"audio\", \n",
    "                                            \"src_id\": aram_src_id, \"src\": str(text_dict[text][\"narrative_num\"])+\"a.mp3\"}]\n",
    "                elif 159>i>52:\n",
    "                    sentence_dict[\"src_alignment\"]=[{\"off_start_src\": text_dict[text][\"aram\"][\"times\"][j][0], \"off_end_src\": text_dict[text][\"aram\"][\"times\"][j][1], \n",
    "                                            \"off_start_sent\": 0, \"off_end_sent\": len(text_dict[text][\"aram\"][\"aram_text\"][j]), \"mtype\": \"audio\", \n",
    "                                            \"src_id\": aram_src_id, \"src\": str(text_dict[text][\"narrative_num\"])+\"b.mp3\"}]\n",
    "                elif 299>i>158:\n",
    "                    sentence_dict[\"src_alignment\"]=[{\"off_start_src\": text_dict[text][\"aram\"][\"times\"][j][0], \"off_end_src\": text_dict[text][\"aram\"][\"times\"][j][1], \n",
    "                                            \"off_start_sent\": 0, \"off_end_sent\": len(text_dict[text][\"aram\"][\"aram_text\"][j]), \"mtype\": \"audio\", \n",
    "                                            \"src_id\": aram_src_id, \"src\": str(text_dict[text][\"narrative_num\"])+\"c.mp3\"}]\n",
    "                else:\n",
    "                    sentence_dict[\"src_alignment\"]=[{\"off_start_src\": text_dict[text][\"aram\"][\"times\"][j][0], \"off_end_src\": text_dict[text][\"aram\"][\"times\"][j][1], \n",
    "                                            \"off_start_sent\": 0, \"off_end_sent\": len(text_dict[text][\"aram\"][\"aram_text\"][j]), \"mtype\": \"audio\", \n",
    "                                            \"src_id\": aram_src_id, \"src\": str(text_dict[text][\"narrative_num\"])+\"d.mp3\"}]\n",
    "                i+=1\n",
    "            else:\n",
    "                sentence_dict[\"src_alignment\"]=[{\"off_start_src\": text_dict[text][\"aram\"][\"times\"][j][0], \"off_end_src\": text_dict[text][\"aram\"][\"times\"][j][1], \n",
    "                                            \"off_start_sent\": 0, \"off_end_sent\": len(text_dict[text][\"aram\"][\"aram_text\"][j]), \"mtype\": \"audio\", \n",
    "                                            \"src_id\": aram_src_id, \"src\": str(text_dict[text][\"narrative_num\"])+\".mp3\"}]\n",
    "        \n",
    "        aram_para_id+=1\n",
    "        aram_src_id=\"50_\"+str(aram_para_id)\n",
    "        sentences_list.append(sentence_dict)\n",
    "\n",
    "    for j in range(len(text_dict[text][\"germ\"])):\n",
    "        sentence_dict={}\n",
    "        sentence_dict[\"text\"]=text_dict[text][\"germ\"][j]\n",
    "        sentence_dict[\"words\"]=germ_words_fn(text_dict[text][\"germ\"][j])\n",
    "        sentence_dict[\"lang\"]=1\n",
    "        sentence_dict[\"meta\"]={}\n",
    "        sentence_dict[\"para_alignment\"]=[{\"off_start\": 0, \"off_end\": len(text_dict[text][\"germ\"][j]), \"para_id\": germ_para_id}]\n",
    "        if \"times\" in text_dict[text][\"aram\"]:\n",
    "            if l==103:\n",
    "                if m<53:\n",
    "                    sentence_dict[\"src_alignment\"]=[{\"off_start_src\": text_dict[text][\"aram\"][\"times\"][j][0], \"off_end_src\": text_dict[text][\"aram\"][\"times\"][j][1], \n",
    "                                            \"off_start_sent\": 0, \"off_end_sent\": len(text_dict[text][\"germ\"][j]), \"mtype\": \"audio\", \n",
    "                                            \"src_id\": germ_src_id, \"src\": str(text_dict[text][\"narrative_num\"])+\"a.mp3\"}]\n",
    "                elif 159>m>52:\n",
    "                    sentence_dict[\"src_alignment\"]=[{\"off_start_src\": text_dict[text][\"aram\"][\"times\"][j][0], \"off_end_src\": text_dict[text][\"aram\"][\"times\"][j][1], \n",
    "                                            \"off_start_sent\": 0, \"off_end_sent\": len(text_dict[text][\"germ\"][j]), \"mtype\": \"audio\", \n",
    "                                            \"src_id\": germ_src_id, \"src\": str(text_dict[text][\"narrative_num\"])+\"b.mp3\"}]\n",
    "                elif 299>m>158:\n",
    "                    sentence_dict[\"src_alignment\"]=[{\"off_start_src\": text_dict[text][\"aram\"][\"times\"][j][0], \"off_end_src\": text_dict[text][\"aram\"][\"times\"][j][1], \n",
    "                                            \"off_start_sent\": 0, \"off_end_sent\": len(text_dict[text][\"germ\"][j]), \"mtype\": \"audio\", \n",
    "                                            \"src_id\": germ_src_id, \"src\": str(text_dict[text][\"narrative_num\"])+\"c.mp3\"}]\n",
    "                else:\n",
    "                    sentence_dict[\"src_alignment\"]=[{\"off_start_src\": text_dict[text][\"aram\"][\"times\"][j][0], \"off_end_src\": text_dict[text][\"aram\"][\"times\"][j][1], \n",
    "                                            \"off_start_sent\": 0, \"off_end_sent\": len(text_dict[text][\"germ\"][j]), \"mtype\": \"audio\", \n",
    "                                            \"src_id\": germ_src_id, \"src\": str(text_dict[text][\"narrative_num\"])+\"d.mp3\"}]\n",
    "                m+=1\n",
    "            else:\n",
    "                sentence_dict[\"src_alignment\"]=[{\"off_start_src\": text_dict[text][\"aram\"][\"times\"][j][0], \"off_end_src\": text_dict[text][\"aram\"][\"times\"][j][1], \n",
    "                                            \"off_start_sent\": 0, \"off_end_sent\": len(text_dict[text][\"germ\"][j]), \"mtype\": \"audio\", \n",
    "                                            \"src_id\": germ_src_id, \"src\": str(text_dict[text][\"narrative_num\"])+\".mp3\"}]\n",
    "        \n",
    "        sentences_list.append(sentence_dict)\n",
    "        germ_para_id+=1\n",
    "        germ_src_id=\"50_\"+str(germ_para_id)\n",
    "\n",
    "    final_json={\"meta\": meta_dict, \"sentences\": sentences_list}\n",
    "    json_name=\"jsons_4/\"+str(text_dict[text][\"narrative_num\"])+\".json\"\n",
    "    with open(json_name, \"w\", encoding='utf-8') as fp:\n",
    "        json.dump(final_json, fp, ensure_ascii = False)"
   ]
  }
 ],
 "metadata": {
  "kernelspec": {
   "display_name": "Python 3",
   "language": "python",
   "name": "python3"
  },
  "language_info": {
   "codemirror_mode": {
    "name": "ipython",
    "version": 3
   },
   "file_extension": ".py",
   "mimetype": "text/x-python",
   "name": "python",
   "nbconvert_exporter": "python",
   "pygments_lexer": "ipython3",
   "version": "3.8.10"
  }
 },
 "nbformat": 4,
 "nbformat_minor": 2
}
